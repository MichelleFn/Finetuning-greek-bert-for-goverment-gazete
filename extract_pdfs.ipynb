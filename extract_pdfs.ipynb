{
  "nbformat": 4,
  "nbformat_minor": 0,
  "metadata": {
    "colab": {
      "name": "extract_pdfs.ipynb",
      "provenance": [],
      "collapsed_sections": [],
      "authorship_tag": "ABX9TyNQ1J2VOnqUoXkX0OSzshD0",
      "include_colab_link": true
    },
    "kernelspec": {
      "name": "python3",
      "display_name": "Python 3"
    },
    "language_info": {
      "name": "python"
    }
  },
  "cells": [
    {
      "cell_type": "markdown",
      "metadata": {
        "id": "view-in-github",
        "colab_type": "text"
      },
      "source": [
        "<a href=\"https://colab.research.google.com/github/MichelleFn/Finetuning-greek-bert-for-goverment-gazete/blob/main/extract_pdfs.ipynb\" target=\"_parent\"><img src=\"https://colab.research.google.com/assets/colab-badge.svg\" alt=\"Open In Colab\"/></a>"
      ]
    },
    {
      "cell_type": "code",
      "source": [
        "!pip install pdfplumber"
      ],
      "metadata": {
        "id": "4mxqpM_L82u6"
      },
      "execution_count": null,
      "outputs": []
    },
    {
      "cell_type": "code",
      "source": [
        "from google.colab import drive\n",
        "drive.mount('/content/drive')\n",
        "csv='/content/drive/My Drive/csv/csv/'\n",
        "fek='/content/drive/My Drive/fek/'"
      ],
      "metadata": {
        "id": "dTS8dhpu9z85",
        "colab": {
          "base_uri": "https://localhost:8080/"
        },
        "outputId": "0f895c16-6789-4c34-9ed2-448acf306634"
      },
      "execution_count": null,
      "outputs": [
        {
          "output_type": "stream",
          "name": "stdout",
          "text": [
            "Mounted at /content/drive\n"
          ]
        }
      ]
    },
    {
      "cell_type": "code",
      "source": [
        "import pdfplumber\n",
        "x0 = 0    \n",
        "x1 = 0.5  \n",
        "y0 = 0  \n",
        "y1 = 1  \n",
        "\n",
        "all_text= \"\"\n",
        "all_content=[]\n",
        "with pdfplumber.open(fek+\"fek17.pdf\") as pdf:\n",
        "  for i, page in enumerate(pdf.pages):\n",
        "        width = page.width\n",
        "        height = page.height\n",
        "\n",
        "        \n",
        "        left_bbox = (x0*float(width), y0*float(height), x1*float(width), y1*float(height))\n",
        "        page_crop = page.crop(bbox=left_bbox)\n",
        "        left_text = page_crop.extract_text()\n",
        "\n",
        "        left_bbox = (0.5*float(width), y0*float(height), 1*float(width), y1*float(height))\n",
        "        page_crop = page.crop(bbox=left_bbox)\n",
        "        right_text = page_crop.extract_text()\n",
        "        page_context = ''.join([left_text, right_text])\n",
        "        \n",
        "        all_text +=page_context\n",
        "        \n",
        "text0=all_text.replace('-\\n','-')\n",
        "text1=text0.replace(' \\n',' ')\n",
        "text2=text1.replace(',', '')\n",
        "\n",
        "\n",
        "with open(csv+'rawcsv17.csv','w') as file:\n",
        "    for line in text2.split('\\n'):\n",
        "        print(line)\n",
        "        file.write(line)\n",
        "        file.write('\\n')"
      ],
      "metadata": {
        "id": "Uou0OH4eByzp"
      },
      "execution_count": null,
      "outputs": []
    }
  ]
}